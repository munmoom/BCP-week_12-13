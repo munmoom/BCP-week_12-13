{
  "nbformat": 4,
  "nbformat_minor": 0,
  "metadata": {
    "colab": {
      "name": "Untitled67.ipynb",
      "provenance": [],
      "authorship_tag": "ABX9TyPQkLuNDmTF5tnru3VMnyLf",
      "include_colab_link": true
    },
    "kernelspec": {
      "name": "python3",
      "display_name": "Python 3"
    },
    "language_info": {
      "name": "python"
    }
  },
  "cells": [
    {
      "cell_type": "markdown",
      "metadata": {
        "id": "view-in-github",
        "colab_type": "text"
      },
      "source": [
        "<a href=\"https://colab.research.google.com/github/munmoom/BCP-week_12-13/blob/main/Untitled67.ipynb\" target=\"_parent\"><img src=\"https://colab.research.google.com/assets/colab-badge.svg\" alt=\"Open In Colab\"/></a>"
      ]
    },
    {
      "cell_type": "code",
      "execution_count": 2,
      "metadata": {
        "colab": {
          "base_uri": "https://localhost:8080/"
        },
        "id": "8EfTuJdIL4wn",
        "outputId": "50b85498-7589-4072-9be5-f873fed000ce"
      },
      "outputs": [
        {
          "output_type": "stream",
          "name": "stdout",
          "text": [
            "724\n",
            "3\n"
          ]
        }
      ],
      "source": [
        "A = input()\n",
        "t=0\n",
        "\n",
        "while 1:\n",
        "  res=1\n",
        "  for i in A:\n",
        "    i=int(i)\n",
        "    res=res*i\n",
        "  res=str(res)\n",
        "  t+=1\n",
        "  if len(res)==1:\n",
        "    print(t)\n",
        "    break\n",
        "  else:\n",
        "    A=res"
      ]
    },
    {
      "cell_type": "code",
      "source": [
        "# 학생명단을 받을 리스트\n",
        "list = []\n",
        "# 학생명단을 리스트에 추가함\n",
        "for _ in range(5) :\n",
        "list.append(input())\n",
        "# PNU학생 유무를 확인하기 위한 변수 flag를 0으로 초기화\n",
        "flag = 0\n",
        "# 반복문을 통해 리스트에\n",
        "for i in range(len(list)):\n",
        "# 존재하는 값을 하나씩 확인하는 값 중 'PNU'단어가 존재할 경우\n",
        "if 'PNU' in list[i] :\n",
        "# 해당 index 번호 +1을 출력하고\n",
        "print(i+1, end=' ')\n",
        "# flag 값을 1로 갱신함\n",
        "flag = 1\n",
        "# 반복 수행이 모두 끝나면 flag 값을 확인하여 그 값이 0이면 PNU학생이 없기 때문에 다음 문장을 출력한다.\n",
        "if flag == 0 :\n",
        "print('NOT ANYWHERE!')"
      ],
      "metadata": {
        "id": "cE3DmZ38Ms1e"
      },
      "execution_count": null,
      "outputs": []
    },
    {
      "cell_type": "markdown",
      "source": [
        "2LEE-JBNU\n",
        "\n",
        "38-MIN-KU2\n",
        "\n",
        "M-KIM2-JNU1\n",
        "\n",
        "W-LEE4-KU2\n",
        "\n",
        "KWON2-SNU5"
      ],
      "metadata": {
        "id": "CvKYr-L0Nlvk"
      }
    },
    {
      "cell_type": "code",
      "source": [
        "list=[]\n",
        "for _ in range(5):\n",
        "  list.append(input())\n",
        "flag=0\n",
        "for i in range(len(list)):\n",
        "  if 'PNU' in list[i]:\n",
        "    print(i+1,end=' ')\n",
        "    flag=1\n",
        "if flag == 0:\n",
        "  print('NOT ANYWHERE!')"
      ],
      "metadata": {
        "colab": {
          "base_uri": "https://localhost:8080/"
        },
        "id": "Q-F-tr7QMsp7",
        "outputId": "2a9aba9c-1c0e-4e0f-d86b-786d6904af6c"
      },
      "execution_count": 3,
      "outputs": [
        {
          "output_type": "stream",
          "name": "stdout",
          "text": [
            "2LEE-JBNU\n",
            "38-MIN-KU2\n",
            "KWON2-SNU5\n",
            "W-LEE4-KU2\n",
            "KWON2-SNU5\n",
            "NOT ANYWHERE!\n"
          ]
        }
      ]
    },
    {
      "cell_type": "markdown",
      "source": [
        "7-HAN-JBNU8\n",
        "\n",
        "W-LEE1-PNU2\n",
        "\n",
        "M-JUNG3-PNU4\n",
        "\n",
        "LEE2-PNU2-78\n",
        "\n",
        "47LEE3-YU2\n"
      ],
      "metadata": {
        "id": "P3Mt6qMWN07_"
      }
    },
    {
      "cell_type": "code",
      "source": [
        "list=[]\n",
        "for _ in range(5):\n",
        "  list.append(input())\n",
        "flag=0\n",
        "for i in range(len(list)):\n",
        "  if 'PNU' in list[i]:\n",
        "    print(i+1,end=' ')\n",
        "    flag=1\n",
        "if flag == 0:\n",
        "  print('NOT ANYWHERE!')"
      ],
      "metadata": {
        "colab": {
          "base_uri": "https://localhost:8080/"
        },
        "id": "7_2MZWPxN0cz",
        "outputId": "d29e348c-93e5-4a8f-f01d-5b34b14fe1c7"
      },
      "execution_count": 4,
      "outputs": [
        {
          "output_type": "stream",
          "name": "stdout",
          "text": [
            "7-HAN-JBNU8\n",
            "W-LEE1-PNU2\n",
            "M-JUNG3-PNU4\n",
            "LEE2-PNU2-78\n",
            "47LEE3-YU2\n",
            "2 3 4 "
          ]
        }
      ]
    },
    {
      "cell_type": "code",
      "source": [
        "N=int(input())\n",
        "a=input().split()\n",
        "\n",
        "a=set(a)\n",
        "k=N-len(a)\n",
        "print(k)"
      ],
      "metadata": {
        "colab": {
          "base_uri": "https://localhost:8080/"
        },
        "id": "k5qtKtX8OIn2",
        "outputId": "96ebb750-86e4-4e38-9fd2-8f2b1f381817"
      },
      "execution_count": 7,
      "outputs": [
        {
          "output_type": "stream",
          "name": "stdout",
          "text": [
            "5\n",
            "1 1 1 1 1\n",
            "4\n"
          ]
        }
      ]
    },
    {
      "cell_type": "code",
      "source": [
        "# 0이 두 개를 입력할 때까지 반복\n",
        "while True:\n",
        "# x, y를 공백으로 구분해 한 줄로 입력\n",
        "x, y = map(int, input().split(' '))\n",
        "# 입력값이 0일 때\n",
        "if x == 0 and b == 0:\n",
        "break\n",
        "\n",
        "else:\n",
        "# x,y,z의 평균과 중앙값이 같을 때 가장 작은 정수 z를 찾아야 함\n",
        "# z는 x보다 작으면서\n",
        "# y와 x의 차이값을 구해서 z도 x보다 그 차이값만큼 작으면 됨\n",
        "# 그러면 x,y,z의 평균값은 x가 되고, 중앙값도 x가 됨\n",
        "print(x-(y-x))\n"
      ],
      "metadata": {
        "id": "9AzH_gxZOoFC"
      },
      "execution_count": null,
      "outputs": []
    },
    {
      "cell_type": "code",
      "source": [
        "while True:\n",
        "x,y = map(int, input().split())\n",
        "if x == 0 and y ==0:\n",
        "break\n",
        "\n",
        "else:\n",
        "# z가 x보다 작으면(문제에서 제일 작은 정수) x는 중앙값이 되므로\n",
        "# (x+y+z)/3 = x를 z로 정리라면 z=2*(x-y)이므로\n",
        "z = 2*x-y\n",
        "print(z)"
      ],
      "metadata": {
        "id": "U6iUoDImPH7v"
      },
      "execution_count": null,
      "outputs": []
    },
    {
      "cell_type": "code",
      "source": [
        "# 조사 시간 n\n",
        "n = int(input())\n",
        "# 시작할 때 터널 안에 들어있는 차량 수 m\n",
        "m = int(input())\n",
        "# 최댓값을 찾기 위한 변수 L저장\n",
        "L=m\n",
        "# n시간만큼 반복\n",
        "for i in range(n):\n",
        "# i 시간의 입구의 차량, 출입구의 차량\n",
        "d,e = map(int, input().split())\n",
        "# (i-1)~i시간 내 차량의 수\n",
        "m += d-e\n",
        "# 최댓값을 찾는 문제로 i시간의 차량의 수가 이전 시간의 차량의 수보다 클 경우 최댓값 저장하기 위한 변수 L 갱신\n",
        "if(L<=m):\n",
        "9~14주차 실습 문제 정리 10\n",
        "L=m\n",
        "# 터널 안에 있는 차량의 수가 0보다 작은 경우가 한 번이라도 발생하면 0 출력\n",
        "elif(m<0):\n",
        "print(0)\n",
        "break\n",
        "# m이 0보다 클 경우(터널 안에 있는 차량의 수가 0보다 클 경우)\n",
        "if(m>0):\n",
        "print(L)"
      ],
      "metadata": {
        "id": "3FoKerq5PXFk"
      },
      "execution_count": null,
      "outputs": []
    },
    {
      "cell_type": "markdown",
      "source": [
        "5\n",
        "\n",
        "6\n",
        "\n",
        "6 11\n",
        "\n",
        "3 8\n",
        "\n",
        "4 3\n",
        "\n",
        "3 2\n",
        "\n",
        "4 6"
      ],
      "metadata": {
        "id": "loh9yS9QSreM"
      }
    },
    {
      "cell_type": "code",
      "source": [
        "n=int(input())\n",
        "m=int(input())\n",
        "lis=[]\n",
        "for _ in range(0,n):\n",
        "  x, y = map(int, input().split())\n",
        "  m = m + (x-y)\n",
        "  lis.append(m)\n",
        "t=0\n",
        "for i in lis:\n",
        "  if i < 0:\n",
        "    t=1\n",
        "    print('0')\n",
        "    break\n",
        "\n",
        "if t==0:\n",
        "  print(max(lis))"
      ],
      "metadata": {
        "colab": {
          "base_uri": "https://localhost:8080/"
        },
        "id": "c79jzObNR_vB",
        "outputId": "3c38a509-a08b-4d88-9f68-e142603181dc"
      },
      "execution_count": 10,
      "outputs": [
        {
          "output_type": "stream",
          "name": "stdout",
          "text": [
            "5\n",
            "6\n",
            "6 11\n",
            "3 8\n",
            "4 3\n",
            "3 2\n",
            "4 6\n",
            "0\n"
          ]
        }
      ]
    },
    {
      "cell_type": "code",
      "source": [
        "# 통화 횟수와 통화 횟수만큼 통화 시간을 받는 변수\n",
        "n = int(input())\n",
        "t = list(map(int, input().split()))\n",
        "# 요금제 A와 B를 계산하기 위해 변수 0으로 초기화\n",
        "a = 0\n",
        "b = 0\n",
        "\n",
        "# 요금제 A와 B를 계산\n",
        "for i in t:\n",
        "  a += i // 20 * 10 + 10\n",
        "  b += i // 40 * 15 + 15\n",
        "# 요금제 B가 클 경우 A 출력\n",
        "if a < b:\n",
        "  print('A %d' % a)  \n",
        "  print(f'A {a}')\n",
        "# 요금제 A가 클 경우 B 출력\n",
        "elif a > b:\n",
        "  print('B %d' % b) \n",
        "  print(f'B {b}')\n",
        "# 같을 경우 A B 둘 다 그리고 계산한 b요금 출력\n",
        "else:\n",
        "  print('A B %d' % b)\n",
        "  print(f'A B {b}')"
      ],
      "metadata": {
        "colab": {
          "base_uri": "https://localhost:8080/",
          "height": 281
        },
        "id": "_iNUr-LBTZ1J",
        "outputId": "43f5cbcf-b912-43d9-f6fd-102289ade2d2"
      },
      "execution_count": 12,
      "outputs": [
        {
          "name": "stdout",
          "output_type": "stream",
          "text": [
            "4\n",
            "17 10 16 19\n"
          ]
        },
        {
          "output_type": "error",
          "ename": "TypeError",
          "evalue": "ignored",
          "traceback": [
            "\u001b[0;31m---------------------------------------------------------------------------\u001b[0m",
            "\u001b[0;31mTypeError\u001b[0m                                 Traceback (most recent call last)",
            "\u001b[0;32m<ipython-input-12-dcfce2dcc39a>\u001b[0m in \u001b[0;36m<module>\u001b[0;34m()\u001b[0m\n\u001b[1;32m      1\u001b[0m \u001b[0;31m# 통화 횟수와 통화 횟수만큼 통화 시간을 받는 변수\u001b[0m\u001b[0;34m\u001b[0m\u001b[0;34m\u001b[0m\u001b[0;34m\u001b[0m\u001b[0m\n\u001b[1;32m      2\u001b[0m \u001b[0mn\u001b[0m \u001b[0;34m=\u001b[0m \u001b[0mint\u001b[0m\u001b[0;34m(\u001b[0m\u001b[0minput\u001b[0m\u001b[0;34m(\u001b[0m\u001b[0;34m)\u001b[0m\u001b[0;34m)\u001b[0m\u001b[0;34m\u001b[0m\u001b[0;34m\u001b[0m\u001b[0m\n\u001b[0;32m----> 3\u001b[0;31m \u001b[0mt\u001b[0m \u001b[0;34m=\u001b[0m \u001b[0mlist\u001b[0m\u001b[0;34m(\u001b[0m\u001b[0mmap\u001b[0m\u001b[0;34m(\u001b[0m\u001b[0mint\u001b[0m\u001b[0;34m,\u001b[0m \u001b[0minput\u001b[0m\u001b[0;34m(\u001b[0m\u001b[0;34m)\u001b[0m\u001b[0;34m.\u001b[0m\u001b[0msplit\u001b[0m\u001b[0;34m(\u001b[0m\u001b[0;34m)\u001b[0m\u001b[0;34m)\u001b[0m\u001b[0;34m)\u001b[0m\u001b[0;34m\u001b[0m\u001b[0;34m\u001b[0m\u001b[0m\n\u001b[0m\u001b[1;32m      4\u001b[0m \u001b[0;31m# 요금제 A와 B를 계산하기 위해 변수 0으로 초기화\u001b[0m\u001b[0;34m\u001b[0m\u001b[0;34m\u001b[0m\u001b[0;34m\u001b[0m\u001b[0m\n\u001b[1;32m      5\u001b[0m \u001b[0ma\u001b[0m \u001b[0;34m=\u001b[0m \u001b[0;36m0\u001b[0m\u001b[0;34m\u001b[0m\u001b[0;34m\u001b[0m\u001b[0m\n",
            "\u001b[0;31mTypeError\u001b[0m: 'list' object is not callable"
          ]
        }
      ]
    },
    {
      "cell_type": "code",
      "source": [
        "# 각 가격을 공백 기준으로 입력 받는다\n",
        "x,y,z,a,b=map(int,input().split())\n",
        "# 검은색 볼펜과 빨간색 볼펜 가격의 합이 2색 볼펜 가격의 2배보다 작을 경우\n",
        "# 검은색과 빨간색의 갯수에 대한 가격을 출력\n",
        "if x+y<z*2:\n",
        "print(x*a+y*b)\n",
        "# 검은색 볼펜과 빨간색 볼펜 가격의 합이 2색 볼펜의 2배보다 작을 경우\n",
        "# 검은색과 빨간색 가격 중 작은 값을 이용하여\n",
        "# 최소 가격을 구한다\n",
        "else:\n",
        "m=min(a,b)\n",
        "print(z*m*2+min(z*2,x)*max(0,a-m)+min(z*2,y)*max(0,b-m))"
      ],
      "metadata": {
        "id": "8vp9FBrUWX79"
      },
      "execution_count": null,
      "outputs": []
    }
  ]
}