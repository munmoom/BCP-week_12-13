{
  "nbformat": 4,
  "nbformat_minor": 0,
  "metadata": {
    "colab": {
      "name": "8-연습문제(4).ipynb",
      "provenance": [],
      "authorship_tag": "ABX9TyPx577avQOsXq/IWf8UoIwv",
      "include_colab_link": true
    },
    "kernelspec": {
      "name": "python3",
      "display_name": "Python 3"
    },
    "language_info": {
      "name": "python"
    }
  },
  "cells": [
    {
      "cell_type": "markdown",
      "metadata": {
        "id": "view-in-github",
        "colab_type": "text"
      },
      "source": [
        "<a href=\"https://colab.research.google.com/github/munmoom/BCP-week_12-13/blob/main/8_%EC%97%B0%EC%8A%B5%EB%AC%B8%EC%A0%9C(4).ipynb\" target=\"_parent\"><img src=\"https://colab.research.google.com/assets/colab-badge.svg\" alt=\"Open In Colab\"/></a>"
      ]
    },
    {
      "cell_type": "code",
      "execution_count": 7,
      "metadata": {
        "colab": {
          "base_uri": "https://localhost:8080/"
        },
        "id": "zOx18J1oeIOl",
        "outputId": "a75830c7-34d7-48a3-bdb0-ccb9992a6edb"
      },
      "outputs": [
        {
          "output_type": "stream",
          "name": "stdout",
          "text": [
            "2\n",
            "false\n"
          ]
        }
      ],
      "source": [
        "inn=str(input())\n",
        "i=0\n",
        "nun=[]\n",
        "while True:\n",
        "  N=int(len(inn))\n",
        "  res=0\n",
        "  for a in range(0,N):\n",
        "    inte=int(inn[a])**2\n",
        "    res += inte\n",
        "  inn=res\n",
        "  nun.append(inn)\n",
        "  inn=str(inn)\n",
        "  if nun[i]==1:\n",
        "    print('true')\n",
        "    break\n",
        "  for a in range(0,i):\n",
        "    if nun[a]==nun[i]:\n",
        "      i=-1\n",
        "  if i==-1:\n",
        "    print('false')\n",
        "    break\n",
        "  i+=1"
      ]
    }
  ]
}