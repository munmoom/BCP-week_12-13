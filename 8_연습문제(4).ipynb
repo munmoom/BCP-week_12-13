{
  "nbformat": 4,
  "nbformat_minor": 0,
  "metadata": {
    "colab": {
      "name": "8-연습문제(4).ipynb",
      "provenance": [],
      "authorship_tag": "ABX9TyPd/YXeMW6rNEtjLQ4sPvY4",
      "include_colab_link": true
    },
    "kernelspec": {
      "name": "python3",
      "display_name": "Python 3"
    },
    "language_info": {
      "name": "python"
    }
  },
  "cells": [
    {
      "cell_type": "markdown",
      "metadata": {
        "id": "view-in-github",
        "colab_type": "text"
      },
      "source": [
        "<a href=\"https://colab.research.google.com/github/munmoom/BCP-week_12-13/blob/main/8_%EC%97%B0%EC%8A%B5%EB%AC%B8%EC%A0%9C(4).ipynb\" target=\"_parent\"><img src=\"https://colab.research.google.com/assets/colab-badge.svg\" alt=\"Open In Colab\"/></a>"
      ]
    },
    {
      "cell_type": "code",
      "execution_count": 7,
      "metadata": {
        "colab": {
          "base_uri": "https://localhost:8080/"
        },
        "id": "zOx18J1oeIOl",
        "outputId": "a75830c7-34d7-48a3-bdb0-ccb9992a6edb"
      },
      "outputs": [
        {
          "output_type": "stream",
          "name": "stdout",
          "text": [
            "2\n",
            "false\n"
          ]
        }
      ],
      "source": [
        "inn=str(input())\n",
        "i=0\n",
        "nun=[]\n",
        "\n",
        "while True:\n",
        "  N=int(len(inn))\n",
        "  res=0\n",
        "\n",
        "  for a in range(0,N):\n",
        "    inte=int(inn[a])**2\n",
        "    res += inte\n",
        "  inn=res\n",
        "  nun.append(inn)\n",
        "  inn=str(inn)\n",
        "\n",
        "  if nun[i]==1:\n",
        "    print('true')\n",
        "    break\n",
        "\n",
        "  for a in range(0,i):\n",
        "    if nun[a]==nun[i]:\n",
        "      i=-1\n",
        "\n",
        "  if i==-1:\n",
        "    print('false')\n",
        "    break\n",
        "\n",
        "  i+=1"
      ]
    },
    {
      "cell_type": "markdown",
      "source": [
        "### 집합과 리스트\n",
        "\n",
        "set은 중복되는 원소를 하나로 친다\n",
        "\n",
        "set과 list가 같지 않으면 무한반복으로 친다(원소들의 합이 같지 않으면)"
      ],
      "metadata": {
        "id": "8gzgxFIXhAIr"
      }
    },
    {
      "cell_type": "markdown",
      "source": [
        "### menbership연산자\n",
        "\n",
        "if n in list:"
      ],
      "metadata": {
        "id": "u9-ygb8njzJb"
      }
    },
    {
      "cell_type": "markdown",
      "source": [
        "tuple\n",
        "\n",
        "divmod함수\n",
        "\n",
        "나머지를 구해서 1의 자리수부터 구할 수 있다, 0이 되기 전까지\n",
        "\n",
        "## 방문순서 중요하면 list, 아니면 false\n",
        "\n",
        "## 비교연산자는 True와 False를 반환한다\n",
        "\n",
        "## While에 조건문 붙여놓으면 break를 쓸 필요가 없다"
      ],
      "metadata": {
        "id": "6jZamuJak3nz"
      }
    }
  ]
}